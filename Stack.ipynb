{
  "nbformat": 4,
  "nbformat_minor": 0,
  "metadata": {
    "colab": {
      "name": "Stack.ipynb",
      "provenance": [],
      "collapsed_sections": [],
      "authorship_tag": "ABX9TyOMTft9KJn4pi61opJjzG1w"
    },
    "kernelspec": {
      "name": "python3",
      "display_name": "Python 3"
    },
    "language_info": {
      "name": "python"
    }
  },
  "cells": [
    {
      "cell_type": "markdown",
      "source": [
        "**Stack**"
      ],
      "metadata": {
        "id": "Ay__7tCHraxR"
      }
    },
    {
      "cell_type": "markdown",
      "source": [
        "1:Linera data structure.\n",
        "\n",
        "2:It follows last in first out.\n",
        "\n",
        "3:Push is used for inserting an element in a stack.\n",
        "\n",
        "4:pop is used to removal an element in a stack."
      ],
      "metadata": {
        "id": "mb8P2WwYra2F"
      }
    },
    {
      "cell_type": "markdown",
      "source": [
        "**Function associated with Stack**"
      ],
      "metadata": {
        "id": "YDOsr9Zg0tfh"
      }
    },
    {
      "cell_type": "markdown",
      "source": [
        "push-it is used to insert the element.\n",
        "\n",
        "pop - it is used to remove the last element of a stack\n",
        "\n",
        "size = gives the size/length of stack\n",
        "\n",
        "empty - return true for an empty stack"
      ],
      "metadata": {
        "id": "4BQBvgeW01FF"
      }
    },
    {
      "cell_type": "markdown",
      "source": [
        "Several ways to implement stack in python-\n",
        "\n",
        "*list\n",
        "\n",
        "*collection.deque\n",
        "\n",
        "*queue.LifoQueue"
      ],
      "metadata": {
        "id": "ogqUH6un1oO0"
      }
    },
    {
      "cell_type": "code",
      "source": [
        "#implimenation using list\n",
        "stack = []\n",
        "stack.append(\"welcome\")\n",
        "stack.append(\"to\")\n",
        "stack.append(\"Nepal\")\n",
        "print(stack)\n",
        "print(stack.pop()) #pop used lifo order\n",
        "print(stack)\n",
        "\n",
        "print(stack.pop()) \n",
        "print(stack)"
      ],
      "metadata": {
        "colab": {
          "base_uri": "https://localhost:8080/"
        },
        "id": "w9kM0JaEr5Zb",
        "outputId": "c9ef025d-ba60-4618-8eac-f34bb173fb54"
      },
      "execution_count": null,
      "outputs": [
        {
          "output_type": "stream",
          "name": "stdout",
          "text": [
            "['welcome', 'to', 'Nepal']\n",
            "Nepal\n",
            "['welcome', 'to']\n",
            "to\n",
            "['welcome']\n"
          ]
        }
      ]
    },
    {
      "cell_type": "code",
      "source": [
        "#implementation using deque\n",
        "#append and pop is faster in deque more than list\n",
        "from collections import deque\n",
        "stack = deque()\n",
        "stack.append(\"x\")\n",
        "stack.append(\"y\")\n",
        "stack.append(\"z\")\n",
        "print(stack)\n",
        "print(stack.pop())\n",
        "print(stack)"
      ],
      "metadata": {
        "colab": {
          "base_uri": "https://localhost:8080/"
        },
        "id": "sBTH-7xEsPWU",
        "outputId": "83a6e303-68ad-4835-be79-2bfcb688c484"
      },
      "execution_count": null,
      "outputs": [
        {
          "output_type": "stream",
          "name": "stdout",
          "text": [
            "deque(['x', 'y', 'z'])\n",
            "z\n",
            "deque(['x', 'y'])\n"
          ]
        }
      ]
    },
    {
      "cell_type": "code",
      "source": [
        "#implementatin using queue\n",
        "#1:put function is used to insert data in queue\n",
        "#2:get function is used to remove the element\n",
        "from queue import LifoQueue\n",
        "stack = LifoQueue(maxsize=3)\n",
        "stack.put(2)\n",
        "stack.put(3)\n",
        "stack.put(4)\n",
        "print(stack.qsize())\n",
        "print(stack.full())\n",
        "stack.get()\n",
        "print(stack.full())"
      ],
      "metadata": {
        "colab": {
          "base_uri": "https://localhost:8080/"
        },
        "id": "7h5O_aHwsPZ6",
        "outputId": "ba6e1d0c-3f73-479a-9c49-419170980bc7"
      },
      "execution_count": null,
      "outputs": [
        {
          "output_type": "stream",
          "name": "stdout",
          "text": [
            "3\n",
            "True\n",
            "False\n"
          ]
        }
      ]
    },
    {
      "cell_type": "markdown",
      "source": [
        "**Advantages of Stack**"
      ],
      "metadata": {
        "id": "Z3yjPlfn876S"
      }
    },
    {
      "cell_type": "code",
      "source": [
        "#1:Maintain data in Lifo manner\n",
        "#2:last element is readily available for use\n",
        "#3:All operation are 0(1) complexity"
      ],
      "metadata": {
        "id": "O82fa8hm7Psy"
      },
      "execution_count": null,
      "outputs": []
    },
    {
      "cell_type": "markdown",
      "source": [
        "**Disadvantages of Stack**"
      ],
      "metadata": {
        "id": "QBVq6zq1-ESX"
      }
    },
    {
      "cell_type": "code",
      "source": [
        "#1:manipulation is restriction to the top of stack\n",
        "#2:Not much flexible"
      ],
      "metadata": {
        "id": "SA5CYjbl7Pwx"
      },
      "execution_count": null,
      "outputs": []
    },
    {
      "cell_type": "code",
      "source": [
        ""
      ],
      "metadata": {
        "id": "YKoLfcJp-PMl"
      },
      "execution_count": null,
      "outputs": []
    },
    {
      "cell_type": "code",
      "source": [
        ""
      ],
      "metadata": {
        "id": "MBlsKIs1-PQ0"
      },
      "execution_count": null,
      "outputs": []
    }
  ]
}