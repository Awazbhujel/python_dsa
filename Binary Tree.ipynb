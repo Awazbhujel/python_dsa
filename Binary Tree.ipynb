{
  "nbformat": 4,
  "nbformat_minor": 0,
  "metadata": {
    "colab": {
      "name": "Binary Tree.ipynb",
      "provenance": [],
      "collapsed_sections": [],
      "authorship_tag": "ABX9TyPQ4ryY6u3YTkjZqec1wau3"
    },
    "kernelspec": {
      "name": "python3",
      "display_name": "Python 3"
    },
    "language_info": {
      "name": "python"
    }
  },
  "cells": [
    {
      "cell_type": "markdown",
      "source": [
        "**What is Binary Tree?**"
      ],
      "metadata": {
        "id": "Q-EzXjuzndnX"
      }
    },
    {
      "cell_type": "code",
      "execution_count": null,
      "metadata": {
        "id": "akzXpui1mG44"
      },
      "outputs": [],
      "source": [
        "#1:Hierarchical Data Structure\n",
        "#2:Topmost element is known as the root of trees\n",
        "#3:every node can have at most 2 children in binary tree\n",
        "#4:cant access elements randomly using index\n",
        "#3:File system hierarchy\n",
        "#4: Common traversal methods:\n",
        "#preorder(root):root-left-right(first print all the elements from left and after that prints right element)\n",
        "#postorder(root):left right root\n",
        "#inorder(root):left root right\n",
        "#in Bst it has left and right child.childs are inserted on the tree in such a way that\n",
        "#in left side it will always less that the root and in right side it will be greater than root"
      ]
    },
    {
      "cell_type": "markdown",
      "source": [
        "**Applications**"
      ],
      "metadata": {
        "id": "fxNyWxqPq2H9"
      }
    },
    {
      "cell_type": "code",
      "source": [
        "#1:File system hierarchy\n",
        "#2:Multiple variation of binary tree has wide variety of application\\"
      ],
      "metadata": {
        "id": "x1TRZFq6o2ed"
      },
      "execution_count": null,
      "outputs": []
    },
    {
      "cell_type": "code",
      "source": [
        "#Implementating binary tree with preorde,inorder,post order\n",
        "class node:\n",
        "  def __init__(self,key):\n",
        "    self.left = None\n",
        "    self.right = None\n",
        "    self.val = key\n",
        "  \n",
        "  def traPreOrder(self):\n",
        "    print(self.val,end=\" \")\n",
        "    if self.left:\n",
        "      self.left.traPreOrder()\n",
        "    if self.right:\n",
        "      self.right.traPreOrder()\n",
        "  \n",
        "  def traInOrder(self):\n",
        "    if self.left:\n",
        "      self.left.traInOrder()\n",
        "    print(self.val,end=\" \")\n",
        "    if self.right:\n",
        "      self.right.traInOrder()\n",
        "  \n",
        "  def traPostOrder(self):\n",
        "    if self.left:\n",
        "      self.left.traPostOrder()\n",
        "    if self.right:\n",
        "      self.right.traPostOrder()\n",
        "    print(self.val,end=\" \")\n",
        "\n",
        "root = node(10)\n",
        "root.left = node(5)\n",
        "root.right = node(6)\n",
        "root.left.left = node(4)\n",
        "root.right.right = node(7)\n",
        "root.left.left.left = node(3)\n",
        "\n",
        "print(\"Pre order Traversal:\",end=\" \")\n",
        "root.traPreOrder()\n",
        "print(\"\\nIn order Traversal:\",end=\" \")\n",
        "root.traInOrder()\n",
        "print(\"\\nPost order Traversal\",end=\" \")\n",
        "root.traPostOrder()"
      ],
      "metadata": {
        "colab": {
          "base_uri": "https://localhost:8080/"
        },
        "id": "kysrbH4do2vg",
        "outputId": "adc7cde1-5d01-4025-da2b-ef713fabdb5b"
      },
      "execution_count": null,
      "outputs": [
        {
          "output_type": "stream",
          "name": "stdout",
          "text": [
            "Pre order Traversal: 10 5 4 3 6 7 \n",
            "In order Traversal: 3 4 5 10 6 7 \n",
            "Post order Traversal 3 4 5 7 6 10 "
          ]
        }
      ]
    },
    {
      "cell_type": "markdown",
      "source": [
        "Advantage:\n",
        "\n",
        "1:can represent data with some relationship\n",
        "\n",
        "2:Insertion and search are much more efficient\n"
      ],
      "metadata": {
        "id": "MTTuQz_p-Lr0"
      }
    },
    {
      "cell_type": "markdown",
      "source": [
        "Disadvantge:\n",
        "\n",
        "1:Sorting is difficult\n",
        "\n",
        "2:Not much flexible"
      ],
      "metadata": {
        "id": "wUlXTvGv-sC1"
      }
    }
  ]
}