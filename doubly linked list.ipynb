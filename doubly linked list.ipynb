{
  "nbformat": 4,
  "nbformat_minor": 0,
  "metadata": {
    "colab": {
      "name": "Untitled58.ipynb",
      "provenance": [],
      "collapsed_sections": [],
      "authorship_tag": "ABX9TyP4ZfA1NQnvPZF9crNMpbrA"
    },
    "kernelspec": {
      "name": "python3",
      "display_name": "Python 3"
    },
    "language_info": {
      "name": "python"
    }
  },
  "cells": [
    {
      "cell_type": "code",
      "execution_count": 14,
      "metadata": {
        "id": "v6cpGtInWP2L",
        "colab": {
          "base_uri": "https://localhost:8080/"
        },
        "outputId": "5cb47ea6-71ef-4173-f1fa-2444722dde18"
      },
      "outputs": [
        {
          "output_type": "stream",
          "name": "stdout",
          "text": [
            "\n",
            "forward traversal:\n",
            "20 30 40 50 \n",
            "backward traversal:\n",
            "50 40 30 20 \n",
            "insertion at beginning in backward\n",
            "50 40 30 20 60 \n",
            "insertion at beginning in forward\n",
            "20 30 40 50 \n",
            "insertion at end in backward\n",
            "50 40 30 20 60 \n",
            "insertion at end in forward\n",
            "20 30 40 50 \n",
            "inserting elements at specific position in forward traversal\n",
            "20 30 100 40 50 \n",
            "inserting elements at specific position in backward traversal\n",
            "50 40 100 100 30 20 60 \n",
            "deletion element at beginning\n",
            "30 100 100 40 50 \n",
            "deletion element at end\n",
            "30 100 100 40 \n",
            "deletion elements at specific position\n",
            "30 100 40 "
          ]
        }
      ],
      "source": [
        "#doubly linked list\n",
        "#creating node of doubly linked list\n",
        "class node:\n",
        "  def __init__(self,data):\n",
        "    self.data = data\n",
        "    self.prev = None\n",
        "    self.next = None\n",
        "\n",
        "class Dll:\n",
        "  def __init__(self):\n",
        "    self.head = None\n",
        "\n",
        "  def forward_traversal(self):\n",
        "    a = self.head\n",
        "    while a is not None:\n",
        "      print(a.data,end=\" \")\n",
        "      a = a.next\n",
        " \n",
        "  def backward_traversal(self):\n",
        "    a = self.head\n",
        "    while a.next is not None:\n",
        "      a = a.next\n",
        "    while a is not None:\n",
        "      print(a.data,end=\" \")\n",
        "      a = a.prev\n",
        "\n",
        "  def insertion_at_beginning(self,data):\n",
        "    nb = node(data)\n",
        "    a= self.head\n",
        "    a.prev = nb\n",
        "    nb.next = a\n",
        "    a.head = nb\n",
        "\n",
        "  def insertion_at_end(self,data):\n",
        "    ne = node(data)\n",
        "    a = self.head\n",
        "    while a.next is not None:\n",
        "      a = a.next\n",
        "    ne.prev = a.next\n",
        "    a.next = ne.next\n",
        "  \n",
        "  def insertion_at_specified_node(self,data,position):\n",
        "    nib = node(data)\n",
        "    a =self.head\n",
        "    for i in range(1,position-1):\n",
        "      a = a.next\n",
        "    nib.prev =a\n",
        "    nib.next = a.next\n",
        "    a.next.prev =  nib\n",
        "    a.next= nib\n",
        "  \n",
        "  def deletion_at_beginning(self):\n",
        "    a = self.head\n",
        "    self.head = a.next\n",
        "    a.next = None\n",
        "    self.head.prev = None\n",
        "\n",
        "\n",
        "  def deletion_at_end(self):\n",
        "    a = self.head.next\n",
        "    prev = self.head\n",
        "    while a.next is not None:\n",
        "       a = a.next\n",
        "       prev = prev.next\n",
        "    prev.next = None\n",
        "    a.prev = None\n",
        "  \n",
        "  def deletion_at_specific_position(self,position):\n",
        "    a = self.head.next\n",
        "    before = self.head\n",
        "    for i in range(1,position-1):\n",
        "      a = a.next\n",
        "      before = before.next\n",
        "    before.next = a.next\n",
        "    a.next.prev = before\n",
        "    a.next = None\n",
        "    a.prev = None\n",
        "    \n",
        "\n",
        "dll = Dll()\n",
        "n1 = node(20)\n",
        "dll.head = n1\n",
        "n2 = node(30)\n",
        "n2.prev = n1\n",
        "n1.next = n2\n",
        "n3 = node(40)\n",
        "n2.next = n3\n",
        "n3.prev = n2\n",
        "n4 = node(50)\n",
        "n3.next = n4\n",
        "n4.prev = n3\n",
        "\n",
        "print(\"\\nforward traversal:\")\n",
        "dll.forward_traversal()\n",
        "\n",
        "print(\"\\nbackward traversal:\")\n",
        "dll.backward_traversal()\n",
        "\n",
        "dll.insertion_at_beginning(60)\n",
        "\n",
        "print(\"\\ninsertion at beginning in backward\")\n",
        "dll.backward_traversal()\n",
        "\n",
        "print(\"\\ninsertion at beginning in forward\")\n",
        "dll.insertion_at_beginning(60)\n",
        "dll.forward_traversal()\n",
        "\n",
        "print(\"\\ninsertion at end in backward\")\n",
        "dll.insertion_at_end(70)\n",
        "dll.backward_traversal()\n",
        "\n",
        "print(\"\\ninsertion at end in forward\")\n",
        "dll.insertion_at_end(70)\n",
        "dll.forward_traversal()\n",
        "\n",
        "print(\"\\ninserting elements at specific position in forward traversal\")\n",
        "dll.insertion_at_specified_node(100,3)\n",
        "dll.forward_traversal()\n",
        "\n",
        "print(\"\\ninserting elements at specific position in backward traversal\")\n",
        "dll.insertion_at_specified_node(100,3)\n",
        "dll.backward_traversal()\n",
        "\n",
        "\n",
        "print(\"\\ndeletion element at beginning\")\n",
        "dll.deletion_at_beginning()\n",
        "dll.forward_traversal()\n",
        "\n",
        "print(\"\\ndeletion element at end\")\n",
        "dll.deletion_at_end()\n",
        "dll.forward_traversal()\n",
        "\n",
        "print(\"\\ndeletion elements at specific position\")\n",
        "dll.deletion_at_specific_position(2)\n",
        "dll.forward_traversal()"
      ]
    },
    {
      "cell_type": "code",
      "source": [
        ""
      ],
      "metadata": {
        "id": "Gv7k39TvKUJT"
      },
      "execution_count": null,
      "outputs": []
    },
    {
      "cell_type": "code",
      "source": [
        ""
      ],
      "metadata": {
        "id": "QGCMVQO_KUMw"
      },
      "execution_count": null,
      "outputs": []
    },
    {
      "cell_type": "code",
      "source": [
        ""
      ],
      "metadata": {
        "id": "jNbberTA-2oV"
      },
      "execution_count": null,
      "outputs": []
    },
    {
      "cell_type": "code",
      "source": [
        ""
      ],
      "metadata": {
        "id": "pAQN3W2puT2d"
      },
      "execution_count": null,
      "outputs": []
    },
    {
      "cell_type": "code",
      "source": [
        ""
      ],
      "metadata": {
        "id": "mGMRHVhNpftI"
      },
      "execution_count": null,
      "outputs": []
    },
    {
      "cell_type": "code",
      "source": [
        "_"
      ],
      "metadata": {
        "id": "_1HwQTCquUBB"
      },
      "execution_count": null,
      "outputs": []
    }
  ]
}