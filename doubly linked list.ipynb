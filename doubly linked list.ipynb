{
  "nbformat": 4,
  "nbformat_minor": 0,
  "metadata": {
    "colab": {
      "name": "Untitled58.ipynb",
      "provenance": [],
      "collapsed_sections": [],
      "authorship_tag": "ABX9TyN7wH8Dg362HNWxpiRk85Xi"
    },
    "kernelspec": {
      "name": "python3",
      "display_name": "Python 3"
    },
    "language_info": {
      "name": "python"
    }
  },
  "cells": [
    {
      "cell_type": "code",
      "execution_count": 35,
      "metadata": {
        "id": "v6cpGtInWP2L",
        "colab": {
          "base_uri": "https://localhost:8080/"
        },
        "outputId": "62f6adcb-dbed-4291-e8c4-1fd0081aec9b"
      },
      "outputs": [
        {
          "output_type": "stream",
          "name": "stdout",
          "text": [
            "forward traversal:\n",
            "20 30 40 50 \n",
            "backward traversal:\n",
            "50 40 30 20 \n",
            "insertion at beginning in backward\n",
            "50 40 30 20 60 \n",
            "insertion at beginning in forward\n",
            "60 20 30 40 50 \n",
            "insertion at end in backward\n",
            "70 50 40 30 20 60 \n",
            "insertion at end in forward\n",
            "60 20 30 40 50 70 \n",
            "inserting elements at specific position in forward traversal\n",
            "60 20 100 30 40 50 70 \n",
            "inserting elements at specific position in backward traversal\n",
            "70 50 40 30 100 20 60 \n"
          ]
        }
      ],
      "source": [
        "#doubly linked list\n",
        "#creating node of doubly linked list\n",
        "class node:\n",
        "  def __init__(self,data):\n",
        "    self.data = data\n",
        "    self.prev = None\n",
        "    self.next = None\n",
        "\n",
        "class Dll:\n",
        "  def __init__(self):\n",
        "    self.head = None\n",
        "  \n",
        "  def forward_traversal(self):\n",
        "    a =self.head\n",
        "    if a is None:\n",
        "      print(\"dll is empty\")\n",
        "    else:\n",
        "      while a is not None:\n",
        "        print(a.data,end=\" \")\n",
        "        a = a.next\n",
        "  \n",
        "  def backward_traversal(self):\n",
        "    a = self.head\n",
        "    if a is None:\n",
        "      print(\"dll is empty\")\n",
        "    else:\n",
        "      while a.next is not None:\n",
        "        a = a.next\n",
        "      while a is not None:\n",
        "        print(a.data,end=\" \")\n",
        "        a = a.prev\n",
        "      print()\n",
        "\n",
        "  def insertion_at_beginning(self,data):\n",
        "    dnb = node(data)\n",
        "    a = self.head\n",
        "    a.prev = dnb\n",
        "    dnb.next = a\n",
        "    self.head = dnb\n",
        "\n",
        "  def insertion_at_end(self,data):\n",
        "    dne = node(data)\n",
        "    a = self.head\n",
        "    while a.next is not None:\n",
        "      a= a.next\n",
        "    a.next = dne\n",
        "    dne.prev = a\n",
        "  \n",
        "  def insertion_at_specified_node(self,data,position):\n",
        "    dnip = node(data)\n",
        "    a = self.head\n",
        "    for i in range(1,position-1):\n",
        "      a = a.next\n",
        "    dnip.prev = a\n",
        "    dnip.next = a.next\n",
        "    a.next.prev = dnip\n",
        "    a.next = dnip\n",
        "\n",
        "dll = Dll()\n",
        "n1 = node(20)\n",
        "dll.head = n1\n",
        "n2 = node(30)\n",
        "n2.prev = n1\n",
        "n1.next = n2\n",
        "n3 = node(40)\n",
        "n2.next = n3\n",
        "n3.prev = n2\n",
        "n4 = node(50)\n",
        "n3.next = n4\n",
        "n4.prev = n3\n",
        "\n",
        "print(\"forward traversal:\")\n",
        "dll.forward_traversal()\n",
        "\n",
        "print(\"\\nbackward traversal:\")\n",
        "dll.backward_traversal()\n",
        "\n",
        "dll.insertion_at_beginning(60)\n",
        "\n",
        "print(\"insertion at beginning in backward\")\n",
        "dll.backward_traversal()\n",
        "\n",
        "print(\"insertion at beginning in forward\")\n",
        "dll.forward_traversal()\n",
        "\n",
        "print(\"\\ninsertion at end in backward\")\n",
        "dll.insertion_at_end(70)\n",
        "dll.backward_traversal()\n",
        "\n",
        "print(\"insertion at end in forward\")\n",
        "dll.forward_traversal()\n",
        "\n",
        "print(\"\\ninserting elements at specific position in forward traversal\")\n",
        "dll.insertion_at_specified_node(100,3)\n",
        "dll.forward_traversal()\n",
        "\n",
        "print(\"\\ninserting elements at specific position in backward traversal\")\n",
        "dll.backward_traversal()\n"
      ]
    },
    {
      "cell_type": "code",
      "source": [
        ""
      ],
      "metadata": {
        "id": "pAQN3W2puT2d"
      },
      "execution_count": 3,
      "outputs": []
    },
    {
      "cell_type": "code",
      "source": [
        "_"
      ],
      "metadata": {
        "id": "_1HwQTCquUBB"
      },
      "execution_count": null,
      "outputs": []
    }
  ]
}