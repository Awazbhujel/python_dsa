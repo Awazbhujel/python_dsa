{
  "nbformat": 4,
  "nbformat_minor": 0,
  "metadata": {
    "colab": {
      "name": "Queue.ipynb",
      "provenance": [],
      "collapsed_sections": [],
      "authorship_tag": "ABX9TyPYJCQQunlZlAx4zoW4Dme0"
    },
    "kernelspec": {
      "name": "python3",
      "display_name": "Python 3"
    },
    "language_info": {
      "name": "python"
    }
  },
  "cells": [
    {
      "cell_type": "markdown",
      "source": [
        "what is Queue?\n",
        "\n",
        "1:Linear Data Structure\n",
        "\n",
        "2:Follows FIFO:first in first out\n",
        "\n",
        "3:Insertion can take place from the rear end\n",
        "\n",
        "4:Deletion can take place from Front end\n",
        "\n",
        "5:eg:queue at ticket counter,bus station"
      ],
      "metadata": {
        "id": "XykzKttTplI2"
      }
    },
    {
      "cell_type": "markdown",
      "source": [
        "Applications\n",
        "\n",
        "*Scheduling\n",
        "\n",
        "*Maintaning playlist\n",
        "\n",
        "*Interrupt Handling"
      ],
      "metadata": {
        "id": "EgqhmKzqII_A"
      }
    },
    {
      "cell_type": "markdown",
      "source": [
        "Queue Implementation using following function:\n",
        "\n",
        "1.Enqueue\n",
        "\n",
        "2.Dequeue\n",
        "\n",
        "3.Display"
      ],
      "metadata": {
        "id": "63cMe__vMSng"
      }
    },
    {
      "cell_type": "code",
      "source": [
        "class Queue:\n",
        "  def __init__(self):\n",
        "    self.queue = []\n",
        "  \n",
        "  def enqueue(self,item):\n",
        "    self.queue.append(item)\n",
        "  \n",
        "  def dequeue(self):\n",
        "    if len(self.queue)<1:\n",
        "      return None\n",
        "    return self.queue.pop(0)\n",
        "  \n",
        "  def display(self):\n",
        "    print(self.queue)\n",
        "  \n",
        "  def size(self):\n",
        "    return len(self.queue)\n",
        "\n",
        "q = Queue()\n",
        "q.enqueue(1)\n",
        "q.enqueue(2)\n",
        "q.enqueue(3)\n",
        "q.enqueue(4)\n",
        "q.display()\n",
        "print(q.size())\n",
        "print(\"After removing an element:\")\n",
        "q.dequeue()\n",
        "q.display()\n",
        "print(q.size())"
      ],
      "metadata": {
        "colab": {
          "base_uri": "https://localhost:8080/"
        },
        "id": "7BaY4hXipkDc",
        "outputId": "99cba918-a827-4b87-d014-d702c9811afc"
      },
      "execution_count": null,
      "outputs": [
        {
          "output_type": "stream",
          "name": "stdout",
          "text": [
            "[1, 2, 3, 4]\n",
            "4\n",
            "After removing an element:\n",
            "[2, 3, 4]\n",
            "3\n"
          ]
        }
      ]
    },
    {
      "cell_type": "markdown",
      "source": [
        "Program Implementaion for Circular Queue by Following Functions:\n",
        "\n",
        "1.Enqueue\n",
        "\n",
        "2.Dequeue"
      ],
      "metadata": {
        "id": "dMH8MSLgM7eK"
      }
    },
    {
      "cell_type": "code",
      "source": [
        "class circularQueue():\n",
        "  \n",
        "  def __init__(self,k):\n",
        "    self.k = k \n",
        "    self.queue = [None]*k\n",
        "    self.head = self.tail = -1\n",
        "  \n",
        "  def enqueue(self,data):\n",
        "    if ((self.tail + 1) % self.k == self.head):\n",
        "      print(\"circular queue is empty\")\n",
        "\n",
        "    elif(self.head==-1):\n",
        "      self.head = 0\n",
        "      self.tail=0\n",
        "      self.queue[self.tail]=data\n",
        "    else:\n",
        "      self.tail = (self.tail+1)% self.k\n",
        "      self.queue[self.tail] = data\n",
        "  \n",
        "  def dequeu(self):\n",
        "    if (self.head==-1):\n",
        "      print(\"the circular queue is empty now\\n\")\n",
        "    \n",
        "    elif (self.head==self.tail):\n",
        "      temp = self.queue[self.head]\n",
        "      self.head = -1\n",
        "      self.tail = -1\n",
        "      return temp\n",
        "    else:\n",
        "      temp = self.queue[self.head]\n",
        "      self.head = (self.head + 1) % self.k\n",
        "      return temp\n",
        "\n",
        "  def printcQueue(self):\n",
        "    if(self.head==-1):\n",
        "      print(\"No elements in the circular queue is found\")\n",
        "  \n",
        "    elif(self.tail>=self.head):\n",
        "      for i in range(self.head,self.tail+1):\n",
        "        print(self.queue[i],end=\" \")\n",
        "      print()\n",
        "    else:\n",
        "      for i in range(self.head,self.k):\n",
        "        print(self.queue[i],end=\" \")\n",
        "      for i in range(0,self.tail+1):\n",
        "        print(self.queue[i],end=\" \")\n",
        "      print()\n",
        "\n",
        "obj = circularQueue(4)\n",
        "obj.enqueue(12)\n",
        "obj.enqueue(13)\n",
        "obj.enqueue(14)\n",
        "obj.enqueue(15)\n",
        "print(\"the values are:\")\n",
        "obj.printcQueue()\n",
        "\n",
        "obj.dequeu()\n",
        "print(\"after reomving elements form queue:\")\n",
        "obj.printcQueue() \n",
        "obj.enqueue(16)\n",
        "obj.printcQueue()"
      ],
      "metadata": {
        "colab": {
          "base_uri": "https://localhost:8080/"
        },
        "id": "rhTJRVGPG5dx",
        "outputId": "ebf9b929-0447-456d-9627-34918a44d704"
      },
      "execution_count": null,
      "outputs": [
        {
          "output_type": "stream",
          "name": "stdout",
          "text": [
            "the values are:\n",
            "12 13 14 15 \n",
            "after reomving elements form queue:\n",
            "13 14 15 \n",
            "13 14 15 16 \n"
          ]
        }
      ]
    },
    {
      "cell_type": "markdown",
      "source": [
        "Advantages\n",
        "\n",
        "1.Maintains Data in FIFO manner.\n",
        "\n",
        "2.Insertion from beginning and deletion from end takes O(1) time."
      ],
      "metadata": {
        "id": "p_yq7rxzhEGT"
      }
    },
    {
      "cell_type": "markdown",
      "source": [
        "Disadvantages\n",
        "\n",
        "1.Manipulation is restricted front and rear.\n",
        "\n",
        "2.Not much flexible"
      ],
      "metadata": {
        "id": "QoFbrg9ih2G9"
      }
    }
  ]
}
