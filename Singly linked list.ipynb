{
  "nbformat": 4,
  "nbformat_minor": 0,
  "metadata": {
    "colab": {
      "name": "Untitled51.ipynb",
      "provenance": [],
      "collapsed_sections": [],
      "authorship_tag": "ABX9TyPYh+UzKxJ7E9+m6yjdAVcJ"
    },
    "kernelspec": {
      "name": "python3",
      "display_name": "Python 3"
    },
    "language_info": {
      "name": "python"
    }
  },
  "cells": [
    {
      "cell_type": "code",
      "execution_count": 83,
      "metadata": {
        "colab": {
          "base_uri": "https://localhost:8080/"
        },
        "id": "CTyXS8SKeQdH",
        "outputId": "75e169e5-b27f-42a0-aa42-bf2adfebf804"
      },
      "outputs": [
        {
          "output_type": "stream",
          "name": "stdout",
          "text": [
            "5 10 15 20 \n",
            "inserting values in the beginning:\n",
            "3 5 10 15 20 \n",
            "inserting values in the end:\n",
            "3 5 10 15 20 90 \n",
            "inserting values at specific node\n",
            "3 5 100 10 15 20 90 \n"
          ]
        }
      ],
      "source": [
        "#creating a node in singly linked list\n",
        "class node:\n",
        "  def __init__(self,data):\n",
        "    self.data = data\n",
        "    self.next = None\n",
        "\n",
        "#creating a class of singly linked list\n",
        "class Sll:\n",
        "  def __init__(self):\n",
        "    self.head = None\n",
        "\n",
        "#creating traversal\n",
        "  def traversal(self):\n",
        "    if self.head is None:\n",
        "      print(\"sinlgy linklist is empty\")\n",
        "    else:\n",
        "      a =self.head\n",
        "      while a is not None:\n",
        "        print(a.data,end=\" \")\n",
        "        a=a.next #to connect one node to another\n",
        "    print()\n",
        "  \n",
        "  #adding values in the begnning\n",
        "  def insert_at_beginning(self,data):\n",
        "    nb = node(data)\n",
        "    nb.next = self.head\n",
        "    self.head = nb\n",
        "\n",
        "  def insert_at_end(self,data):\n",
        "    ne = node(data)\n",
        "    a = self.head\n",
        "    while a.next is not None:\n",
        "      a = a.next\n",
        "    a.next = ne\n",
        "  \n",
        "  def insert_at_specified_node(self,position,data): #position=3 and data=100\n",
        "    nib = node(data)\n",
        "    a = self.head\n",
        "    for i in range(1,position-1): #i=1\n",
        "      a = a.next        #a = nb.next=n1\n",
        "    nib.next = a.next    #nib.next = n1.next=n2\n",
        "    a.next = nib         #a.next =n1.next=nib\n",
        "\n",
        "sll = Sll()\n",
        "n1 = node(5)\n",
        "sll.head = n1\n",
        "n2 = node(10)\n",
        "n1.next = n2\n",
        "n3 = node(15)\n",
        "n2.next = n3\n",
        "n4 = node(20)\n",
        "n3.next = n4\n",
        "\n",
        "sll.traversal()\n",
        "\n",
        "sll.insert_at_beginning(3)\n",
        "print(\"inserting values in the beginning:\")\n",
        "sll.traversal()\n",
        "\n",
        "print(\"inserting values in the end:\")\n",
        "sll.insert_at_end(90)\n",
        "sll.traversal()\n",
        "\n",
        "print(\"inserting values at specific node\")\n",
        "sll.insert_at_specified_node(3,100)\n",
        "sll.traversal()"
      ]
    },
    {
      "cell_type": "code",
      "source": [
        "#creating node\n",
        "class node:\n",
        "  def __init__(self,data):\n",
        "    self.data = data\n",
        "    self.next = None\n",
        "\n",
        "#creating singlyll\n",
        "class Sll:\n",
        "  def __init__(self):\n",
        "    self.head = None\n",
        "  \n",
        "  #creating taversal\n",
        "  def traversel(self):\n",
        "      if self.head is None:\n",
        "        print(\"linked list is empty\")\n",
        "      else:\n",
        "        a = self.head\n",
        "        while a is not None:\n",
        "          print(a.data,end=\" \")\n",
        "          a = a.next\n",
        "\n",
        "sl2 = Sll()\n",
        "n1 = node(50)\n",
        "sl2.head = n1\n",
        "n2 = node(40)\n",
        "n1.next = n2\n",
        "n3 = node(30)\n",
        "n2.next = n3\n",
        "n4 = node(20)\n",
        "n3.next = n4\n",
        "n5 = node(10)\n",
        "n4.next = n5\n",
        "n6 = node(0)\n",
        "n5.next = n6\n",
        "\n",
        "sl2.traversel()"
      ],
      "metadata": {
        "id": "CqeVozaJrxjE",
        "colab": {
          "base_uri": "https://localhost:8080/"
        },
        "outputId": "3f76c214-1f9f-4860-acf2-8dc7fdbe02f9"
      },
      "execution_count": 54,
      "outputs": [
        {
          "output_type": "stream",
          "name": "stdout",
          "text": [
            "50 40 30 20 10 0 "
          ]
        }
      ]
    },
    {
      "cell_type": "code",
      "source": [
        ""
      ],
      "metadata": {
        "id": "4XzJr3zWkMCO"
      },
      "execution_count": null,
      "outputs": []
    },
    {
      "cell_type": "code",
      "source": [
        ""
      ],
      "metadata": {
        "id": "6Zhb-7W7kQyC"
      },
      "execution_count": null,
      "outputs": []
    }
  ]
}