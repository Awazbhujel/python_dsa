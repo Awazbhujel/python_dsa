{
  "nbformat": 4,
  "nbformat_minor": 0,
  "metadata": {
    "colab": {
      "provenance": [],
      "authorship_tag": "ABX9TyNppJ37hszbWDbRbrRcfanu"
    },
    "kernelspec": {
      "name": "python3",
      "display_name": "Python 3"
    },
    "language_info": {
      "name": "python"
    }
  },
  "cells": [
    {
      "cell_type": "code",
      "execution_count": 8,
      "metadata": {
        "colab": {
          "base_uri": "https://localhost:8080/"
        },
        "id": "ezObEn_ZKFwl",
        "outputId": "bb3b9e06-acb2-4ece-de46-1d4c49441930"
      },
      "outputs": [
        {
          "output_type": "stream",
          "name": "stdout",
          "text": [
            "name:Moutain bike,gears:11\n"
          ]
        }
      ],
      "source": [
        "class Bike:\n",
        "  name = \"\"\n",
        "  gear = 0\n",
        "\n",
        "#create objects of class\n",
        "bike1 = Bike()\n",
        "bike1.name = \"Moutain bike\"\n",
        "bike1.gear = 11\n",
        "print(f\"name:{bike1.name},gears:{bike1.gear}\")"
      ]
    },
    {
      "cell_type": "code",
      "source": [
        "class Employee:\n",
        "  employee_id = 0\n",
        "\n",
        "#create object\n",
        "emp1 = Employee()\n",
        "emp2 = Employee()\n",
        "emp1.employee_id = 1001\n",
        "print(f'the employee id:{emp1.employee_id}')\n",
        "emp2.employee_id = 1002\n",
        "print(f'the employee id:{emp2.employee_id}')"
      ],
      "metadata": {
        "colab": {
          "base_uri": "https://localhost:8080/"
        },
        "id": "4H3aetZyMd4p",
        "outputId": "7eea3049-79cc-4f34-ba64-9927c10f8d95"
      },
      "execution_count": 9,
      "outputs": [
        {
          "output_type": "stream",
          "name": "stdout",
          "text": [
            "the employee id:1001\n",
            "the employee id:1002\n"
          ]
        }
      ]
    },
    {
      "cell_type": "code",
      "source": [
        "class Room:\n",
        "  length = 0.0\n",
        "  breadth = 0.0\n",
        "  \n",
        "  def calculate_area(self):\n",
        "    print(\"area of room=\",self.length*self.breadth)\n",
        "\n",
        "  def square(self):\n",
        "    print(\"area of square:\",self.length*self.length)\n",
        "\n",
        "#create object of room class\n",
        "study_room = Room()\n",
        "\n",
        "#assign values to all the attributes\n",
        "study_room.length = 40\n",
        "study_room.breadth = 44\n",
        "\n",
        "#access method inside the class\n",
        "study_room.calculate_area()\n",
        "study_room.square()"
      ],
      "metadata": {
        "colab": {
          "base_uri": "https://localhost:8080/"
        },
        "id": "yOib8lCzMd7B",
        "outputId": "a82b556f-e044-43b6-d5eb-0c6e8a1771d7"
      },
      "execution_count": 13,
      "outputs": [
        {
          "output_type": "stream",
          "name": "stdout",
          "text": [
            "area of room= 1760\n",
            "area of square: 1600\n"
          ]
        }
      ]
    },
    {
      "cell_type": "code",
      "source": [
        "#python constructor\n",
        "class Bike:\n",
        "  #construction\n",
        "  def __init__(self,name=\"\"):\n",
        "    self.name = name\n",
        "\n",
        "bike1 = Bike()\n",
        "bike1 = Bike(\"mountain Bike\")"
      ],
      "metadata": {
        "id": "g4O7PZ4oMd9k"
      },
      "execution_count": 16,
      "outputs": []
    },
    {
      "cell_type": "code",
      "source": [
        "class ParentClass:\n",
        "  #attributes and method of definition\n",
        "\n",
        "#inheritance\n",
        "class ChildClass(ParentClass):\n",
        "  #attribute and method of super_class\n",
        "  #attributes and method of sub_class"
      ],
      "metadata": {
        "id": "K8n1H0CxMeAi"
      },
      "execution_count": null,
      "outputs": []
    },
    {
      "cell_type": "code",
      "source": [
        "#inheritance\n",
        "class Animal:\n",
        "  #attributes and method of the parent class\n",
        "  name = \"\"\n",
        "\n",
        "  def eat(self):\n",
        "    print(\"i can eat\")\n",
        "\n",
        "#inherit from animal\n",
        "class Dog(Animal):\n",
        "  #new method in child class\n",
        "  def display(self):\n",
        "    #access the attributes of superclass using self\n",
        "    print(\"my name is\",self.name)\n",
        "\n",
        "#create an object of the childclass\n",
        "bhusiya = Dog()\n",
        "#access parent classs attributes and method from child class\n",
        "bhusiya.name = \"Tiger\"\n",
        "bhusiya.eat()\n",
        "\n",
        "#class childclass method\n",
        "bhusiya.display()"
      ],
      "metadata": {
        "colab": {
          "base_uri": "https://localhost:8080/"
        },
        "id": "mz0MWQHuUrix",
        "outputId": "6e1bbf94-22ae-4173-bfc2-9596a77ef9a5"
      },
      "execution_count": 19,
      "outputs": [
        {
          "output_type": "stream",
          "name": "stdout",
          "text": [
            "i can eat\n",
            "my name is Tiger\n"
          ]
        }
      ]
    },
    {
      "cell_type": "code",
      "source": [
        "#method overriding\n",
        "class Animal:\n",
        "  name = \"\"\n",
        "  def eat(self):\n",
        "    print(\"i can eat\")\n",
        "\n",
        "class Dog(Animal):\n",
        "  #overide the eat() method\n",
        "  def eat(self):\n",
        "    print(\"i like to eat bones\")\n",
        "\n",
        "#create an object of the subclass\n",
        "bulldog = Dog()\n",
        "#call the eat() method on the bulldog object\n",
        "bulldog.eat()"
      ],
      "metadata": {
        "colab": {
          "base_uri": "https://localhost:8080/"
        },
        "id": "2-bAPKcHUrlX",
        "outputId": "6396b050-14da-4f94-a88c-7f66f2bb6439"
      },
      "execution_count": 20,
      "outputs": [
        {
          "output_type": "stream",
          "name": "stdout",
          "text": [
            "i like to eat bones\n"
          ]
        }
      ]
    },
    {
      "cell_type": "code",
      "source": [
        "class Animal:\n",
        "    name = \"\"\n",
        "    def eat(self):\n",
        "      print(\"i can eat\")\n",
        "\n",
        "class Dog(Animal):\n",
        "  #overide eat() method\n",
        "    def eat(self):\n",
        "      #call the eat() method of the superclass using super()\n",
        "      super().eat()\n",
        "      print(\"i like to eat bones\")\n",
        "bull = Dog()\n",
        "bull.eat()"
      ],
      "metadata": {
        "colab": {
          "base_uri": "https://localhost:8080/"
        },
        "id": "g8WqfvacUrns",
        "outputId": "46e447a3-413f-4260-d8bd-84b0d839404a"
      },
      "execution_count": 22,
      "outputs": [
        {
          "output_type": "stream",
          "name": "stdout",
          "text": [
            "i can eat\n",
            "i like to eat bones\n"
          ]
        }
      ]
    },
    {
      "cell_type": "code",
      "source": [
        "class SuperClass1:\n",
        "  #features of superclass1\n",
        "class SuperClass2:\n",
        "  #features of superclas2\n",
        "\n",
        "class MultiDerived(SuperClass1,SuperClass2):\n",
        "   # features of SuperClass1 + SuperClass2 + MultiDerived class"
      ],
      "metadata": {
        "id": "aySGK-AnUrqQ"
      },
      "execution_count": null,
      "outputs": []
    },
    {
      "cell_type": "code",
      "source": [
        "#multiple inheritance\n",
        "class Mammal:\n",
        "  def Mammal_info(self):\n",
        "    print(\"mammals can give direct birth\")\n",
        "\n",
        "class WingedAnimal:\n",
        "  def Winged_animal_info(self):\n",
        "    print(\"winged animals can flap\")\n",
        "\n",
        "class Bat(Mammal,WingedAnimal):\n",
        "  pass\n",
        "\n",
        "b1 = Bat()"
      ],
      "metadata": {
        "id": "KD9RY3w9UrtK"
      },
      "execution_count": 23,
      "outputs": []
    },
    {
      "cell_type": "code",
      "source": [
        "#python multileel inheritance\n",
        "class SuperClass:\n",
        "  def super_method(self):\n",
        "    print(\"super class method called\")\n",
        "\n",
        "class Derivedclass1(SuperClass):\n",
        "  def derived1_method(self):\n",
        "    print(\"derived class1 method called\")\n",
        "  \n",
        "class Derivedclass2(Derivedclass1):\n",
        "  def Derived2_method(self):\n",
        "    print(\"derived class1 method called\")\n",
        "\n",
        "d2 = Derivedclass2()\n",
        "d2.super_method()\n",
        "d2.derived1_method()\n",
        "d2.Derived2_method()"
      ],
      "metadata": {
        "colab": {
          "base_uri": "https://localhost:8080/"
        },
        "id": "RlHP1o_9Urwc",
        "outputId": "1f52f3e7-f809-484c-cf7a-4673998e7144"
      },
      "execution_count": 27,
      "outputs": [
        {
          "output_type": "stream",
          "name": "stdout",
          "text": [
            "super class method called\n",
            "derived class1 method called\n",
            "derived class1 method called\n"
          ]
        }
      ]
    },
    {
      "cell_type": "code",
      "source": [
        "class SuperClass1:\n",
        "    def info(self):\n",
        "        print(\"Super Class 1 method called\")\n",
        "\n",
        "class SuperClass2:\n",
        "    def info(self):\n",
        "        print(\"Super Class 2 method called\")\n",
        "\n",
        "class Derived(SuperClass1, SuperClass2):\n",
        "    pass\n",
        "\n",
        "d1 = Derived()\n",
        "d1.info()  "
      ],
      "metadata": {
        "colab": {
          "base_uri": "https://localhost:8080/"
        },
        "id": "w1CzVP_HUrzH",
        "outputId": "dd358963-a366-4c57-bbf9-76e23e700a5e"
      },
      "execution_count": 28,
      "outputs": [
        {
          "output_type": "stream",
          "name": "stdout",
          "text": [
            "Super Class 1 method called\n"
          ]
        }
      ]
    },
    {
      "cell_type": "code",
      "source": [
        "class Complex:\n",
        "  def __init__(self,real,imag):\n",
        "    self.real = real\n",
        "    self.imag = imag\n",
        "  \n",
        "  def __add__(self,other):\n",
        "    return self.real+other.real,self.imag+other.imag\n",
        "\n",
        "obj1 = Complex(1,2)\n",
        "obj2 = Complex(3,4)\n",
        "obj3 = obj1+obj2\n",
        "print(obj3)  "
      ],
      "metadata": {
        "colab": {
          "base_uri": "https://localhost:8080/"
        },
        "id": "pmY6aNU3Ur7a",
        "outputId": "29ada672-a346-42f2-cd84-50fc514ac5c6"
      },
      "execution_count": 30,
      "outputs": [
        {
          "output_type": "stream",
          "name": "stdout",
          "text": [
            "(4, 6)\n"
          ]
        }
      ]
    },
    {
      "cell_type": "code",
      "source": [
        "class Person:\n",
        "    def __init__(self, name, age):\n",
        "        self.name = name\n",
        "        self.age = age\n",
        "\n",
        "    # overload < operator\n",
        "    def __lt__(self, other):\n",
        "        return self.age < other.age\n",
        "\n",
        "p1 = Person(\"Alice\", 20)\n",
        "p2 = Person(\"Bob\", 30)\n",
        "\n",
        "print(p1 < p2)  # prints True\n",
        "print(p2 < p1)  # prints False"
      ],
      "metadata": {
        "colab": {
          "base_uri": "https://localhost:8080/"
        },
        "id": "UqGFtg-cjlVN",
        "outputId": "bc3e9fc6-9524-4246-cc43-9078a1e8067b"
      },
      "execution_count": 31,
      "outputs": [
        {
          "output_type": "stream",
          "name": "stdout",
          "text": [
            "True\n",
            "False\n"
          ]
        }
      ]
    },
    {
      "cell_type": "code",
      "source": [],
      "metadata": {
        "id": "C9daAU-vjfYT"
      },
      "execution_count": null,
      "outputs": []
    },
    {
      "cell_type": "code",
      "source": [],
      "metadata": {
        "id": "fdMxy_eAjfb3"
      },
      "execution_count": null,
      "outputs": []
    }
  ]
}