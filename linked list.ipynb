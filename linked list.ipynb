{
  "nbformat": 4,
  "nbformat_minor": 0,
  "metadata": {
    "colab": {
      "name": "Untitled48.ipynb",
      "provenance": [],
      "collapsed_sections": [],
      "authorship_tag": "ABX9TyNBLLc5L2odjnolnOYP6gUM"
    },
    "kernelspec": {
      "name": "python3",
      "display_name": "Python 3"
    },
    "language_info": {
      "name": "python"
    }
  },
  "cells": [
    {
      "cell_type": "code",
      "source": [
        "#nodes\n",
        "class daynames:\n",
        "  def __init__(self,dataval=None):\n",
        "    self.dataval = dataval\n",
        "    self.nextval = None\n",
        "\n",
        "e1 =  daynames(\"sun\")\n",
        "e2 = daynames(\"mon\")\n",
        "e3 = daynames(\"tue\")\n",
        "e4 = daynames(\"wed\")\n",
        "\n",
        "e1.nextval = e2\n",
        "e2.nextval = e3\n",
        "e3.nextval = e4\n",
        "e4.nextval = e1\n",
        "\n",
        "while e1:\n",
        "  print(e1.dataval)\n",
        "  e1= e1.nextval"
      ],
      "metadata": {
        "id": "8SATYuilJ-gN",
        "colab": {
          "base_uri": "https://localhost:8080/"
        },
        "outputId": "75ea4fea-15a2-45a7-e0ac-3646ed6ebd1a"
      },
      "execution_count": null,
      "outputs": [
        {
          "output_type": "stream",
          "name": "stdout",
          "text": [
            "sun\n",
            "mon\n",
            "tue\n",
            "wed\n"
          ]
        }
      ]
    },
    {
      "cell_type": "code",
      "source": [
        "class node:\n",
        "  #fun to initialize the node object\n",
        "  def __init__(self,data):\n",
        "    self.data = data #assign data\n",
        "    self.next = None #initialize next as null\n",
        "\n",
        "#linked list class\n",
        "class linkedlist:\n",
        "  #list object\n",
        "  def __init__(self):\n",
        "    self.head = None\n",
        "\n",
        " # This function prints contents of linked list\n",
        "  def printlist(self):\n",
        "    temp =self.head\n",
        "    while (temp):\n",
        "      print(temp.data,end=\" \")\n",
        "      temp = temp.next\n",
        "  \n",
        "if __name__=='__main__':\n",
        "  #empty list\n",
        "  list1 = linkedlist()\n",
        "  list1.head = node(1)\n",
        "  second = node(2)\n",
        "  third =node(3)\n",
        "  '''\n",
        "    Three nodes have been created.\n",
        "    We have references to these three blocks as head,\n",
        "    second and third '''\n",
        "  \n",
        "  list1.head.next = second\n",
        "  second.next = third\n",
        "\n",
        "  list1.printlist()"
      ],
      "metadata": {
        "colab": {
          "base_uri": "https://localhost:8080/"
        },
        "id": "m7HfHJdw1w-I",
        "outputId": "353e3fd7-00ac-4385-efb8-7d7a49ee73b4"
      },
      "execution_count": null,
      "outputs": [
        {
          "output_type": "stream",
          "name": "stdout",
          "text": [
            "1 2 3 "
          ]
        }
      ]
    },
    {
      "cell_type": "code",
      "source": [
        "#linked list\n",
        "class node:\n",
        "  def __init__(self,data):\n",
        "    self.data = data\n",
        "    self.next = None\n",
        "  \n",
        "class linkedlist:\n",
        "  def __init__(self):\n",
        "    self.head =None\n",
        "\n",
        "  def insertatbeginning(self,data):\n",
        "    temp = node(data)\n",
        "    if self.head ==None:\n",
        "      self.head=temp\n",
        "    else:\n",
        "      temp.next ==self.head\n",
        "      self.head = temp\n",
        "  \n",
        "  def insertatend(self,data):\n",
        "    temp = node(data)\n",
        "    if self.head ==None:\n",
        "      self.head = temp\n",
        "    else:\n",
        "      curr= self.head\n",
        "      while curr.next !=None:\n",
        "        curr= curr.next\n",
        "      curr.next=temp\n",
        "\n",
        "    def insertatgivenpostion(self,data,position):\n",
        "      count =1\n",
        "      curr = self.head\n",
        "      while count<position-1 and curr!=None:\n",
        "        curr = curr.next\n",
        "        count+=1\n",
        "      temp = node(data)\n",
        "      temp.next = curr.next\n",
        "      curr.next = temp\n",
        "    \n",
        "    def traverse(self):\n",
        "      curr = self.head\n",
        "      while curr !=None:\n",
        "        print(curr.data)\n",
        "        curr = curr.next\n",
        "    \n",
        "    def delfrombeginning(self):\n",
        "        try:\n",
        "            if self.head==None:\n",
        "              raise Exception(\"empty linked list\")\n",
        "            else:\n",
        "              temp=self.head\n",
        "              self.head =self.head.next\n",
        "              del temp\n",
        "        except Exception as e:\n",
        "          print(str(e))\n",
        "    \n",
        "    def delfromend(self):\n",
        "      try:\n",
        "        if self.head==None:\n",
        "          raise Exception(\"empty linked list\")\n",
        "        else:\n",
        "            curr = self.head\n",
        "            prev = None\n",
        "            while curr.next!=None:\n",
        "              prev = curr\n",
        "              curr = curr.next\n",
        "            prev.next = curr.next\n",
        "            del curr\n",
        "      except Exception as e:\n",
        "        print(str(e))\n",
        "\n",
        "      def delatpos(self,position):\n",
        "        try:\n",
        "          if self.head == None:\n",
        "            raise Exception(\"empty linked llist\")\n",
        "          else:\n",
        "            curr = self.head\n",
        "            prev = None\n",
        "            count =1\n",
        "            while curr!=None and count<position:\n",
        "              prev =curr\n",
        "              curr = curr.next\n",
        "              count+=1\n",
        "            prev.next = curr.next\n",
        "            del curr\n",
        "        except Exception as e:\n",
        "          print(str(e))"
      ],
      "metadata": {
        "id": "2BCHqEWc1zFw"
      },
      "execution_count": null,
      "outputs": []
    },
    {
      "cell_type": "code",
      "source": [
        "class element:\n",
        "  def __init__(self,value):\n",
        "    self.value = value\n",
        "    self.next = None\n",
        "\n",
        "class linkedlist:\n",
        "  def __init__(self,head=None):\n",
        "    self.head = head\n",
        "\n",
        "  def append(self,new_element):\n",
        "    current = self.head\n",
        "    if self.head:\n",
        "      while current.next:\n",
        "        current = current.next\n",
        "        current_next = new_element \n",
        "    else:\n",
        "      self.head= new_element\n",
        "\n",
        "  def getposition(self,postion):\n",
        "    return None\n",
        "\n",
        "  def insert(self,new_elements,position):\n",
        "    pass\n",
        "  \n",
        "  def delete(self,value):\n",
        "    pass\n",
        "\n",
        "#set up some elements\n",
        "e1 = element(1)\n",
        "e2 = element(2)\n",
        "e3 = element(3)\n",
        "e4 = element(4)\n",
        "\n",
        "#start setting up with linklist\n",
        "ll =linkedlist(e1)\n",
        "ll.append(e2)\n",
        "ll.append(e3)\n",
        "\n"
      ],
      "metadata": {
        "id": "L6-YW_BSgCvT"
      },
      "execution_count": 16,
      "outputs": []
    }
  ]
}