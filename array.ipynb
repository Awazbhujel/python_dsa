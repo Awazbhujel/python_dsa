{
  "nbformat": 4,
  "nbformat_minor": 0,
  "metadata": {
    "colab": {
      "name": "array.ipynb",
      "provenance": [],
      "collapsed_sections": [],
      "authorship_tag": "ABX9TyOZC8/seC6/LGru+OlNM1cj"
    },
    "kernelspec": {
      "name": "python3",
      "display_name": "Python 3"
    },
    "language_info": {
      "name": "python"
    }
  },
  "cells": [
    {
      "cell_type": "markdown",
      "source": [
        "Create a one-dimensional integer array and insert numbers to the maximum size provided untill the end of array.Access the numbers inserted and then display the  same as the output"
      ],
      "metadata": {
        "id": "8VJBDI7uSlnG"
      }
    },
    {
      "cell_type": "code",
      "source": [
        "#1Darray\n",
        "print(\"\\nenter the number till you want array:\",end=\"\")\n",
        "arr = []\n",
        "num = int(input())\n",
        "print(f\"\\nenter {num} elements:\",end=\"\")\n",
        "\n",
        "#using for loop so that i can put elements in arr\n",
        "for i in range(num):\n",
        "  element = input()\n",
        "  arr.append(element)\n",
        "print(\"the elements are:\")\n",
        "#again using for loop to print elements one after another\n",
        "for i in range(num):\n",
        "  print(arr[i],end=\"\")"
      ],
      "metadata": {
        "colab": {
          "base_uri": "https://localhost:8080/"
        },
        "id": "vUWuS8JyQn-b",
        "outputId": "8049790b-77c3-48c5-88aa-a68b026c0d2d"
      },
      "execution_count": 34,
      "outputs": [
        {
          "output_type": "stream",
          "name": "stdout",
          "text": [
            "\n",
            "enter the number till you want array:3\n",
            "\n",
            "enter 3 elements:1\n",
            "2\n",
            "3\n",
            "the elements are:\n",
            "123"
          ]
        }
      ]
    },
    {
      "cell_type": "markdown",
      "source": [
        "Create a two-dimensional integer array and insert numbers to the maximum size provided untill the end of array.Access the numbers inserted and then display the  same as the output"
      ],
      "metadata": {
        "id": "Mo5smjKjVpF0"
      }
    },
    {
      "cell_type": "code",
      "source": [
        "#2Darray"
      ],
      "metadata": {
        "id": "haZYAdgIVb-D"
      },
      "execution_count": 35,
      "outputs": []
    },
    {
      "cell_type": "code",
      "source": [
        "#entering no of rows for \n",
        "r_num = int(input(\"input number of rows:\"))\n",
        "c_num = int(input(\"input number of columns:\"))\n",
        "two_arr = [[0 for col in range(c_num)] for row in range(r_num)]\n",
        "\n",
        "for row in range(r_num):\n",
        "  for col in range(c_num):\n",
        "    two_arr[row][col]=row*col\n",
        "print(two_arr)"
      ],
      "metadata": {
        "colab": {
          "base_uri": "https://localhost:8080/"
        },
        "id": "l9ydhdXGVcBr",
        "outputId": "97c4754b-9596-410f-b1fa-dc6055d4e770"
      },
      "execution_count": 37,
      "outputs": [
        {
          "output_type": "stream",
          "name": "stdout",
          "text": [
            "input number of rows:4\n",
            "input number of columns:4\n",
            "[[0, 0, 0, 0], [0, 1, 2, 3], [0, 2, 4, 6], [0, 3, 6, 9]]\n"
          ]
        }
      ]
    },
    {
      "cell_type": "markdown",
      "source": [
        "Implement search,sort and delete opeations on array of integers"
      ],
      "metadata": {
        "id": "kSvrhYNQ12Ot"
      }
    },
    {
      "cell_type": "code",
      "source": [
        "#deleting in 1darray\n",
        "print(\"enter the size of array:\")\n",
        "tot = int(input())\n",
        "arr = []\n",
        "print(\"enter\" f\"{ tot} elements:\")\n",
        "#looping all the element \n",
        "for i in range(tot):\n",
        "  arr.append(input())\n",
        "print(\"\\nenter the values to delete:\")\n",
        "val = input()\n",
        "#deleting the specific elements\n",
        "if val in arr:\n",
        "  arr.remove(val)\n",
        "  print(\"\\nthe new array is:\")\n",
        "#looping the all the all the elements together after deleting the elements in specific elements\n",
        "  for i in range(tot-1):\n",
        "    print(arr[i],end=\" \")\n",
        "else:\n",
        "  print(\"\\nelement doesnt exist in the array\")"
      ],
      "metadata": {
        "colab": {
          "base_uri": "https://localhost:8080/"
        },
        "id": "dkAsGgzhVcML",
        "outputId": "6a645fce-b54f-4c0d-cc00-172a52b47d52"
      },
      "execution_count": 51,
      "outputs": [
        {
          "output_type": "stream",
          "name": "stdout",
          "text": [
            "enter the size of array:\n",
            "3\n",
            "enter3 elements:\n",
            "1\n",
            "2\n",
            "3\n",
            "\n",
            "enter the values to delete:\n",
            "2\n",
            "\n",
            "the new array is:\n",
            "1 3 "
          ]
        }
      ]
    },
    {
      "cell_type": "markdown",
      "source": [
        "Sorting array"
      ],
      "metadata": {
        "id": "okuaVg5Y-8Fu"
      }
    },
    {
      "cell_type": "code",
      "source": [
        "arr = [10,15,20,5]\n",
        "temp = 0\n",
        "#displaying elements of original array\n",
        "print(\"elements of original array:\")\n",
        "for i in range(0,len(arr)):\n",
        "  print(arr[i],end=\" \")\n",
        "\n",
        "#now sorting the elements in aescending order\n",
        "for i in range(0,len(arr)):\n",
        "  for j in range(i+1,len(arr)):\n",
        "    if(arr[i]>arr[j]):\n",
        "      temp = arr[i]\n",
        "      arr[i]=arr[j]\n",
        "      arr[j]=temp\n",
        "print()\n",
        "\n",
        "#displaying the elements after sorting the elements\n",
        "print(\"elements of array after sorting in ascending order\")\n",
        "for i in range(0,len(arr)):\n",
        "  print(arr[i],end=\" \")"
      ],
      "metadata": {
        "colab": {
          "base_uri": "https://localhost:8080/"
        },
        "id": "7hTEkxlaVcPq",
        "outputId": "1f523b15-029e-41e9-c736-483695afbd3a"
      },
      "execution_count": 58,
      "outputs": [
        {
          "output_type": "stream",
          "name": "stdout",
          "text": [
            "elements of original array:\n",
            "10 15 20 5 \n",
            "elements of array after sorting in ascending order\n",
            "5 10 15 20 "
          ]
        }
      ]
    },
    {
      "cell_type": "markdown",
      "source": [
        "Searching elements in array"
      ],
      "metadata": {
        "id": "KxNrbiGzF6Ms"
      }
    },
    {
      "cell_type": "code",
      "source": [
        "import array\n",
        "#importing array so that it will be easy to find index of array\n",
        "arr = array.array(\"i\",[1,2,3,4,5])\n",
        "print(\"the new created array is:\",end=\" \")\n",
        "for i in range(0,len(arr)):\n",
        "  print(arr[i],end=\" \")\n",
        "print(\"\\nthe index of 1st occurance 5 is :\",end=\"\")\n",
        "print(arr.index(5))\n",
        "print(\"the index of 1st occurance 1 is:\",end=\"\")\n",
        "print(arr.index(1))"
      ],
      "metadata": {
        "colab": {
          "base_uri": "https://localhost:8080/"
        },
        "id": "WOVKBEJw1z0t",
        "outputId": "3a781214-64e9-4014-d17f-77e5a7f70c40"
      },
      "execution_count": 69,
      "outputs": [
        {
          "output_type": "stream",
          "name": "stdout",
          "text": [
            "the new created array is: 1 2 3 4 5 \n",
            "the index of 1st occurance 5 is :4\n",
            "the index of 1st occurance 1 is:0\n"
          ]
        }
      ]
    },
    {
      "cell_type": "markdown",
      "source": [
        "Advantages of Array"
      ],
      "metadata": {
        "id": "IrMMCjNvPISq"
      }
    },
    {
      "cell_type": "code",
      "source": [
        "#1:Random access elements\n",
        "#2:Easy sorting and itertion\n",
        "#3:Replacement of multiple variables"
      ],
      "metadata": {
        "id": "aVVcj_QCF9B3"
      },
      "execution_count": 70,
      "outputs": []
    },
    {
      "cell_type": "markdown",
      "source": [
        "Disadvantages of array"
      ],
      "metadata": {
        "id": "4MJyg_hSSQVf"
      }
    },
    {
      "cell_type": "code",
      "source": [
        "#1:Size is fixed\n",
        "#2:Difficult to insert and delete\n",
        "#3:if capacity is more and occupancy less,most of the array gets wasted\n",
        "#4:Needs contigious memeory"
      ],
      "metadata": {
        "id": "m_3l1w1bF9FV"
      },
      "execution_count": null,
      "outputs": []
    },
    {
      "cell_type": "code",
      "source": [
        ""
      ],
      "metadata": {
        "id": "TSOgiefdSyAW"
      },
      "execution_count": null,
      "outputs": []
    },
    {
      "cell_type": "code",
      "source": [
        ""
      ],
      "metadata": {
        "id": "sbDizcDf1z4G"
      },
      "execution_count": null,
      "outputs": []
    },
    {
      "cell_type": "code",
      "source": [
        ""
      ],
      "metadata": {
        "id": "mAIAY22QSPNK"
      },
      "execution_count": null,
      "outputs": []
    },
    {
      "cell_type": "code",
      "source": [
        ""
      ],
      "metadata": {
        "id": "9o1NWVg4SPQv"
      },
      "execution_count": null,
      "outputs": []
    },
    {
      "cell_type": "code",
      "source": [
        ""
      ],
      "metadata": {
        "id": "auIwQ5gSSfHD"
      },
      "execution_count": null,
      "outputs": []
    },
    {
      "cell_type": "code",
      "source": [
        ""
      ],
      "metadata": {
        "id": "jNSZ_wh4SfKt"
      },
      "execution_count": null,
      "outputs": []
    }
  ]
}