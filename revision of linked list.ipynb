{
  "nbformat": 4,
  "nbformat_minor": 0,
  "metadata": {
    "colab": {
      "name": "Untitled54.ipynb",
      "provenance": [],
      "authorship_tag": "ABX9TyPRKG94jcAPMzrPmaAEvhEw"
    },
    "kernelspec": {
      "name": "python3",
      "display_name": "Python 3"
    },
    "language_info": {
      "name": "python"
    }
  },
  "cells": [
    {
      "cell_type": "code",
      "execution_count": 58,
      "metadata": {
        "colab": {
          "base_uri": "https://localhost:8080/"
        },
        "id": "nApjVKm7ABD_",
        "outputId": "7ce93609-6a60-4824-aeff-23897d8ebe75"
      },
      "outputs": [
        {
          "output_type": "stream",
          "name": "stdout",
          "text": [
            "20 30 40 50 \n",
            "adding elemnets at begnning:\n",
            "10 20 30 40 50 \n",
            "adding elemnets at end:\n",
            "10 20 30 40 50 60 \n",
            "adding elemnets at specific position:\n",
            "10 20 100 30 40 50 60 \n",
            "deletion at beginning\n",
            "20 100 30 40 50 60 \n",
            "deletion at end\n",
            "20 100 30 40 50 \n",
            "deletion at specific position\n",
            "20 30 40 50 \n"
          ]
        }
      ],
      "source": [
        "#creating nodes\n",
        "class node:\n",
        "  def __init__(self,data):\n",
        "    self.data = data\n",
        "    self.next = None\n",
        "\n",
        "#creating linked list\n",
        "class Sll:\n",
        "  def __init__(self):\n",
        "    self.head = None\n",
        "\n",
        "#creating traversal\n",
        "  def traversal(self):\n",
        "    if self.head is None:\n",
        "      print(\"ll is empty\")\n",
        "    else:\n",
        "      a = self.head\n",
        "      while a is not None:\n",
        "        print(a.data,end=\" \")\n",
        "        a = a.next\n",
        "    print()\n",
        "  \n",
        "  def adding_elements_at_begnning(self,data):\n",
        "    nb = node(data)\n",
        "    nb.next = self.head\n",
        "    self.head = nb\n",
        "  \n",
        "  def adding_elements_at_end(self,data):\n",
        "    nl = node(data)\n",
        "    a = self.head\n",
        "    while a.next is not None:\n",
        "      a = a.next\n",
        "    nl.next = a.next\n",
        "    a.next = nl \n",
        "  \n",
        "  def adding_elements_at_specific_position(self,data,position):\n",
        "    np = node(data)\n",
        "    a = self.head\n",
        "    for i in range(1,position-1):\n",
        "      a = a.next\n",
        "    np.next = a.next\n",
        "    a.next = np\n",
        "  \n",
        "  def deletion_at_beginning(self):\n",
        "    a = self.head\n",
        "    self.head = a.next\n",
        "    a.next = None\n",
        "  \n",
        "  def deletion_at_end(self):\n",
        "    prev = self.head\n",
        "    a = self.head.next\n",
        "    while a.next is not None:\n",
        "        a = a.next\n",
        "        prev= prev.next\n",
        "    prev.next = None\n",
        "\n",
        "  def deletion_at_specific_position(self,position):\n",
        "    prev = self.head\n",
        "    a = self.head.next\n",
        "    for i in range(1,position-1):\n",
        "      a = a.next\n",
        "      prev = prev.next\n",
        "    prev.next = a.next\n",
        "    a.next = None\n",
        "\n",
        "sll = Sll()\n",
        "n1 = node(20)\n",
        "sll.head=n1\n",
        "n2 = node(30)\n",
        "n1.next = n2\n",
        "n3 = node(40)\n",
        "n2.next = n3\n",
        "n4 = node(50)\n",
        "n3.next = n4\n",
        "sll.traversal()\n",
        "\n",
        "print(\"adding elemnets at begnning:\")\n",
        "sll.adding_elements_at_begnning(10)\n",
        "sll.traversal()\n",
        "print(\"adding elemnets at end:\")\n",
        "sll.adding_elements_at_end(60)\n",
        "sll.traversal()\n",
        "print(\"adding elemnets at specific position:\")\n",
        "sll.adding_elements_at_specific_position(100,3)\n",
        "sll.traversal()\n",
        "\n",
        "print(\"deletion at beginning\")\n",
        "sll.deletion_at_beginning()\n",
        "sll.traversal()\n",
        "\n",
        "print(\"deletion at end\")\n",
        "sll.deletion_at_end()\n",
        "sll.traversal()\n",
        "\n",
        "print(\"deletion at specific position\")\n",
        "sll.deletion_at_specific_position(2)\n",
        "sll.traversal()"
      ]
    },
    {
      "cell_type": "code",
      "source": [
        ""
      ],
      "metadata": {
        "id": "EMdp6w8XED0-"
      },
      "execution_count": null,
      "outputs": []
    }
  ]
}