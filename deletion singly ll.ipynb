{
  "nbformat": 4,
  "nbformat_minor": 0,
  "metadata": {
    "colab": {
      "name": "Untitled52.ipynb",
      "provenance": [],
      "authorship_tag": "ABX9TyMde/jset5f0ys23KLzOkK9"
    },
    "kernelspec": {
      "name": "python3",
      "display_name": "Python 3"
    },
    "language_info": {
      "name": "python"
    }
  },
  "cells": [
    {
      "cell_type": "code",
      "execution_count": 62,
      "metadata": {
        "colab": {
          "base_uri": "https://localhost:8080/"
        },
        "id": "tbIqNBQvK-u1",
        "outputId": "58e28448-e4c0-4361-e9ae-acafa437755a"
      },
      "outputs": [
        {
          "output_type": "stream",
          "name": "stdout",
          "text": [
            "20 30 40 50 \n",
            "inserting elements in beginning\n",
            "5 20 30 40 50 \n",
            "insert element at end\n",
            "5 20 30 40 50 60 \n",
            "inserting elements in specific position\n",
            "5 20 30 40 50 100 60 \n",
            "deletion at the beginning\n",
            "20 30 40 50 100 60 \n",
            "deletion at end\n",
            "20 30 40 50 100 \n",
            "deletion at specific position\n",
            "20 30 50 100 \n"
          ]
        }
      ],
      "source": [
        "#creating linked list\n",
        "class node:\n",
        "  def __init__(self,data):\n",
        "    self.data = data\n",
        "    self.next = None\n",
        "\n",
        "class ll:\n",
        "  def __init__(self):\n",
        "    self.head = None\n",
        "\n",
        "  def traversal(self):\n",
        "    if self.head is None:\n",
        "      print(\"linked list is empty\")\n",
        "    else:\n",
        "      a = self.head\n",
        "      while a is not None:\n",
        "        print(a.data,end=\" \")\n",
        "        a = a.next\n",
        "      print()\n",
        "  \n",
        "  def insert_at_beginning(self,data):\n",
        "    nf = node(data)\n",
        "    nf.next = self.head\n",
        "    self.head = nf\n",
        "\n",
        "  def insert_at_end(self,data):\n",
        "    ndl = node(data)\n",
        "    a = self.head\n",
        "    while a.next is not None:\n",
        "      a = a.next\n",
        "    a.next = ndl\n",
        "  \n",
        "  def insert_at_specific_position(self,data,position):\n",
        "    ndp = node(data)\n",
        "    a = self.head\n",
        "    for i in range(1,position-1):\n",
        "      a =a.next\n",
        "    ndp.next=a.next\n",
        "    a.next = ndp\n",
        "\n",
        "  def deletion_at_beginning(self):\n",
        "    a = self.head\n",
        "    self.head = a.next\n",
        "    a.next = None\n",
        "  \n",
        "  def deletion_at_end(self):\n",
        "    prev = self.head\n",
        "    a = self.head.next\n",
        "    while a.next is not None:\n",
        "      a = a.next\n",
        "      prev = prev.next\n",
        "    prev.next = None\n",
        "  \n",
        "  def deletion_at_specific_position(self,position):\n",
        "    prev = self.head\n",
        "    a = self.head.next\n",
        "    for i in range(1,position-1):\n",
        "      a = a.next\n",
        "      prev= prev.next\n",
        "    prev.next = a.next\n",
        "    a.next = None\n",
        "\n",
        "ll=ll()\n",
        "n1 = node(20)\n",
        "ll.head = n1\n",
        "n2 = node(30)\n",
        "n1.next = n2\n",
        "n3 = node(40)\n",
        "n2.next = n3\n",
        "n4 = node(50)\n",
        "n3.next = n4\n",
        "\n",
        "ll.traversal()\n",
        "\n",
        "print(\"inserting elements in beginning\")\n",
        "ll.insert_at_beginning(5)\n",
        "ll.traversal()\n",
        "\n",
        "print(\"insert element at end\")\n",
        "ll.insert_at_end(60)\n",
        "ll.traversal()\n",
        "\n",
        "print(\"inserting elements in specific position\")\n",
        "ll.insert_at_specific_position(100,6)\n",
        "ll.traversal()\n",
        "\n",
        "print(\"deletion at the beginning\")\n",
        "ll.deletion_at_beginning()\n",
        "ll.traversal()\n",
        "\n",
        "print(\"deletion at end\")\n",
        "ll.deletion_at_end()\n",
        "ll.traversal()\n",
        "\n",
        "print(\"deletion at specific position\")\n",
        "ll.deletion_at_specific_position(3)\n",
        "ll.traversal()"
      ]
    },
    {
      "cell_type": "code",
      "source": [
        ""
      ],
      "metadata": {
        "id": "qgwt5WbWfz1J"
      },
      "execution_count": null,
      "outputs": []
    }
  ]
}